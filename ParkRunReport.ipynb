{
 "cells": [
  {
   "cell_type": "markdown",
   "metadata": {},
   "source": [
    "### RunReportWeek parameters\n",
    "run = RunReportWeek(parkrunname, eventNumber, week, options)\n",
    "* week 1 - age group first finishers\n",
    "  * options = {}\n",
    "* week 2 - regular runners/volunteers options\n",
    "  * options = {'runner_limit':7, 'volunteer_limit':2, 'number_event_urls':8}\n",
    "* week 3 - regular PBs options\n",
    "  * options = {'pb_limit':2, 'number_event_urls':8}\n",
    "* week 4 - community\n",
    "  * options = {}"
   ]
  },
  {
   "cell_type": "code",
   "execution_count": null,
   "metadata": {},
   "outputs": [],
   "source": [
    "from src.RunReport import RunReportWeek\n",
    "     \n",
    "# this will print a list of tags for flickr and \n",
    "# urls for flickr and event results to use in the below sections  \n",
    "# run = RunReportWeek(eventname, eventnumber, week, options)\n",
    "run = RunReportWeek('jells', 155, 3, {'number_event_urls':8})"
   ]
  },
  {
   "cell_type": "markdown",
   "metadata": {},
   "source": [
    "### Result System\n",
    "* [List of all evNum](https://results-service.parkrun.com/resultsSystem/App/eventJournoReportHTML.php)\n",
    "* Search for the parkrun name to get the evNum:\n",
    "* Jells: \n",
    "  * [https://results-service.parkrun.com/resultsSystem/App/eventJournoReportHTML.php?evNum=1153](https://results-service.parkrun.com/resultsSystem/App/eventJournoReportHTML.php?evNum=1153) \n",
    "* Karkarook:\n",
    "  * [https://results-service.parkrun.com/resultsSystem/App/eventJournoReportHTML.php?evNum=1541](https://results-service.parkrun.com/resultsSystem/App/eventJournoReportHTML.php?evNum=1541)  \n",
    "* Copy text from results service into result service cell between the two ''' and '''"
   ]
  },
  {
   "cell_type": "code",
   "execution_count": null,
   "metadata": {},
   "outputs": [],
   "source": [
    "# Result Service cell\n",
    "text = '''\n",
    "\n",
    "'''\n",
    "run.set_results_system(text)"
   ]
  },
  {
   "cell_type": "markdown",
   "metadata": {},
   "source": [
    "### Photos \n",
    "**facebook**\n",
    "* Go through this week’s photos on the facebook page for the parkrun and select 9 or 10 to use in the report. \n",
    "* Try to represent the diversity of our run’s community. \n",
    "* Include one of the volunteers, and one of each milestone runner if possible\n",
    "* You’ll probably have to rename them as the file names assigned by facebook are woeful.\n",
    "* Follow the social media guidelines from the [https://wiki.parkrun.com/index.php/Index](https://wiki.parkrun.com/index.php/Index)\n",
    "\n",
    "**flickr upload**  \n",
    "* If you don't have a flickr account, create one\n",
    "* Go to upload page when logged in\n",
    "* [https://www.flickr.com/photos/upload/](https://www.flickr.com/photos/upload/)\n",
    "* drag and drop photos onto page\n",
    "* Make sure they are able to be viewed by anyone - set viewing privacy to public.\n",
    "* Add the following tags to all at once \n",
    "* &lt;parkrunname&gt;\\_parkrun\\_&lt;eventnumber&gt; e.g. jells\\_parkrun\\_160\n",
    "* &lt;parkrunname&gt;\n",
    "* parkrun\n",
    "* after tagging, finalise the upload by clicking on the 'Upload x photos' button\n",
    "\n",
    "**flickr add to group**   \n",
    "* Join the &lt;parkrunname&gt;-parkrun flickr group if you haven't already\n",
    "* Add your photos to the photo pool for the parkrun \n",
    "* https://www.flickr.com/groups_pool_add.gne?path=&lt;parkrunname&gt;-parkrun\n",
    "* search the &lt;parkrunname&gt;\\_parkrun\\_&lt;eventnumber&gt; tag and bring up just the ones from this week.\n",
    "* add the photos to the photo pool for the parkrun 6 at a time\n",
    "\n",
    "**flickr get urls for photo links**   \n",
    "* go to the main flickr group page\n",
    "* https://www.flickr.com/groups/&lt;parkrunname&gt;-parkrun/\n",
    "* search for the &lt;parkrunname&gt;\\_parkrun\\_&lt;eventnumber&gt; tag\n",
    "* Click on each photo. \n",
    "* Click on the 'Share Photo' icon\n",
    "* Click on BBCode\n",
    "* Note the width and height on that page as well.\n",
    "* Copy the code into the photos cell between the ''' and '''\n",
    "* Enter the width and height of the photo as well\n",
    "* Enter the section for the photo to appear - options: summary, volunteer, photo\n",
    "* run.addPhoto(text, ['&lt;width&gt;','&lt;height&gt;'], '&lt;section&gt;')\n",
    "* e.g. \n",
    "  * run.addPhoto(text, ['640','427'], 'photo')\n",
    "* to add more photos, copy and paste as many as necessary"
   ]
  },
  {
   "cell_type": "code",
   "execution_count": null,
   "metadata": {},
   "outputs": [],
   "source": [
    "# Photos cell\n",
    "text = '''\n",
    "\n",
    "'''\n",
    "run.add_photo(text, ['640','427'], 'photo')\n",
    "\n",
    "text = '''\n",
    "\n",
    "'''\n",
    "run.add_photo(text, ['640','427'], 'milestone')\n"
   ]
  },
  {
   "cell_type": "markdown",
   "metadata": {},
   "source": [
    "### Event Results\n",
    "* Since parkrun does not allow webscraping, html code from view source of event result pages need to be copied into the notebook.\n",
    "* [http://www.parkrun.com.au/{parkrunname}/results/weeklyresults/?runSeqNumber={eventnumber}](http://www.parkrun.com.au/{parkrunname}/results/weeklyresults/?runSeqNumber={eventnumber})\n",
    "* e.g.\n",
    "* http://www.parkrun.com.au/jells/results/weeklyresults/?runSeqNumber=154\n",
    "* Open url in new browser window, right click and select 'View page source'\n",
    "* use control-f to search for  id=\"results\"\n",
    "* copy from the \n",
    "  * <table class=\"sortable\" id=\"results\" \n",
    "* to the following text on the next line\n",
    "  * What is this table? &lt;/h3&gt; \n",
    "* paste in the events cell on the blank line between the ''' and '''\n"
   ]
  },
  {
   "cell_type": "code",
   "execution_count": null,
   "metadata": {},
   "outputs": [],
   "source": [
    "# Events cell\n",
    "text = '''\n",
    "\n",
    "'''\n",
    "run.parse_event_result(text, True)\n",
    "\n",
    "text = '''\n",
    "\n",
    "'''\n",
    "run.parse_event_result(text, False) \n"
   ]
  },
  {
   "cell_type": "code",
   "execution_count": null,
   "metadata": {
    "scrolled": true
   },
   "outputs": [],
   "source": [
    "html = run.create_week()\n",
    "print(html)\n"
   ]
  },
  {
   "cell_type": "code",
   "execution_count": null,
   "metadata": {},
   "outputs": [],
   "source": []
  }
 ],
 "metadata": {
  "kernelspec": {
   "display_name": "Python 3",
   "language": "python",
   "name": "python3"
  },
  "language_info": {
   "codemirror_mode": {
    "name": "ipython",
    "version": 3
   },
   "file_extension": ".py",
   "mimetype": "text/x-python",
   "name": "python",
   "nbconvert_exporter": "python",
   "pygments_lexer": "ipython3",
   "version": "3.6.5"
  }
 },
 "nbformat": 4,
 "nbformat_minor": 2
}
