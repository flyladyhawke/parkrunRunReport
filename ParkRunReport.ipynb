{
 "cells": [
  {
   "cell_type": "code",
   "execution_count": null,
   "metadata": {},
   "outputs": [],
   "source": [
    "from IPython.display import HTML\n",
    "from src.run_report import RunReportWeek\n",
    "     \n",
    "# RunReportWeek(<parkrun_name>, <event_number>)\n",
    "run = RunReportWeek('jells', 155)\n",
    "\n",
    "# this will print a list of tags for flickr and urls for flickr and event results to use in the below sections  \n",
    "# multiple event urls are only required for week 2 and week 3\n",
    "# run.print_urls(<week>, <number_event_urls>)\n",
    "HTML(run.print_urls(3, 8))"
   ]
  },
  {
   "cell_type": "markdown",
   "metadata": {},
   "source": [
    "### Result System\n",
    "* [List of all evNum](https://results-service.parkrun.com/resultsSystem/App/eventJournoReportHTML.php)\n",
    "* Search for the parkrun name to get the evNum:\n",
    "* Jells: \n",
    "  * [https://results-service.parkrun.com/resultsSystem/App/eventJournoReportHTML.php?evNum=1153](https://results-service.parkrun.com/resultsSystem/App/eventJournoReportHTML.php?evNum=1153) \n",
    "* Karkarook:\n",
    "  * [https://results-service.parkrun.com/resultsSystem/App/eventJournoReportHTML.php?evNum=1541](https://results-service.parkrun.com/resultsSystem/App/eventJournoReportHTML.php?evNum=1541)  \n",
    "* Copy text from results service into result service cell between the two ''' and '''"
   ]
  },
  {
   "cell_type": "code",
   "execution_count": null,
   "metadata": {},
   "outputs": [],
   "source": [
    "# Result Service cell\n",
    "run.set_results_system('''\n",
    "\n",
    "''')"
   ]
  },
  {
   "cell_type": "markdown",
   "metadata": {},
   "source": [
    "### Photos \n",
    "**facebook**\n",
    "* Go through this week’s photos on the facebook page for the parkrun and select 9 or 10 to use in the report. \n",
    "* Try to represent the diversity of our run’s community. \n",
    "* Include one of the volunteers, and one of each milestone runner if possible\n",
    "* You’ll probably have to rename them as the file names assigned by facebook are woeful.\n",
    "* Follow the social media guidelines from the [https://wiki.parkrun.com/index.php/Index](https://wiki.parkrun.com/index.php/Index)\n",
    "\n",
    "**flickr upload**  \n",
    "* If you don't have a flickr account, create one\n",
    "* Go to upload page when logged in\n",
    "* [https://www.flickr.com/photos/upload/](https://www.flickr.com/photos/upload/)\n",
    "* drag and drop photos onto page\n",
    "* Make sure they are able to be viewed by anyone - set viewing privacy to public.\n",
    "* Add the following tags to all at once \n",
    "* &lt;parkrunname&gt;\\_parkrun\\_&lt;eventnumber&gt; e.g. jells\\_parkrun\\_160\n",
    "* &lt;parkrunname&gt;\n",
    "* parkrun\n",
    "* after tagging, finalise the upload by clicking on the 'Upload x photos' button\n",
    "\n",
    "**flickr add to group**   \n",
    "* Join the &lt;parkrunname&gt;-parkrun flickr group if you haven't already\n",
    "* Add your photos to the photo pool for the parkrun \n",
    "* https://www.flickr.com/groups_pool_add.gne?path=&lt;parkrunname&gt;-parkrun\n",
    "* search the &lt;parkrunname&gt;\\_parkrun\\_&lt;eventnumber&gt; tag and bring up just the ones from this week.\n",
    "* add the photos to the photo pool for the parkrun 6 at a time\n",
    "\n",
    "**flickr get urls for photo links**   \n",
    "* go to the main flickr group page\n",
    "* https://www.flickr.com/groups/&lt;parkrunname&gt;-parkrun/\n",
    "* search for the &lt;parkrunname&gt;\\_parkrun\\_&lt;eventnumber&gt; tag\n",
    "* Click on each photo. \n",
    "* Click on the 'Share Photo' icon\n",
    "* Click on BBCode\n",
    "* Note the width and height on that page as well.\n",
    "* Copy the code into the photos cell between the ''' and '''\n",
    "* Enter the width and height of the photo as well\n",
    "* Enter the section for the photo to appear - options: summary, volunteer, photo, milestone\n",
    "* run.addPhoto(text, ['&lt;width&gt;','&lt;height&gt;'], '&lt;section&gt;')\n",
    "* e.g. \n",
    "  * run.addPhoto(text, ['640','427'], 'photo')\n",
    "* to add more photos, copy and paste as many as necessary"
   ]
  },
  {
   "cell_type": "code",
   "execution_count": null,
   "metadata": {},
   "outputs": [],
   "source": [
    "# Photos cell\n",
    "# run.add_photo(text, ['<width>','<height>'], '<section>')\n",
    "# <section> options: summary, volunteer, photo, milestone\n",
    "\n",
    "run.reset_photos()\n",
    "\n",
    "run.add_photo(['640','427'], 'photo', '''\n",
    "\n",
    "''')\n",
    "\n",
    "run.add_photo(['640','427'], 'milestone', '''\n",
    "\n",
    "''')"
   ]
  },
  {
   "cell_type": "markdown",
   "metadata": {},
   "source": [
    "### Event Results\n",
    "* Since parkrun does not allow webscraping, html code from view source of event result pages need to be copied into the notebook.\n",
    "* [http://www.parkrun.com.au/{parkrunname}/results/weeklyresults/?runSeqNumber={eventnumber}](http://www.parkrun.com.au/{parkrunname}/results/weeklyresults/?runSeqNumber={eventnumber})\n",
    "* e.g.\n",
    "* http://www.parkrun.com.au/jells/results/weeklyresults/?runSeqNumber=154\n",
    "* Open url in new browser window, right click and select 'View page source'\n",
    "* use control-f to search for  id=\"results\"\n",
    "* copy from the \n",
    "  * <table class=\"sortable\" id=\"results\" \n",
    "* to the following text on the next line\n",
    "  * What is this table? &lt;/h3&gt; \n",
    "* paste in the events cell on the blank line between the ''' and '''\n"
   ]
  },
  {
   "cell_type": "code",
   "execution_count": null,
   "metadata": {},
   "outputs": [],
   "source": [
    "# Event Results cell\n",
    "# run.parse_event_result(text, <is_current_event>)\n",
    "\n",
    "run.reset_event_result()\n",
    "\n",
    "run.parse_event_result(True, '''\n",
    "\n",
    "''')\n",
    "\n",
    "run.parse_event_result(False, '''\n",
    "\n",
    "''')\n",
    "\n",
    "run.parse_event_result(False, '''\n",
    "\n",
    "''')"
   ]
  },
  {
   "cell_type": "code",
   "execution_count": null,
   "metadata": {},
   "outputs": [],
   "source": [
    "# optional text cell\n",
    "# use {0} where you want the parkrun name to appear\n",
    "run.parse_optional_text('volunteer', '''\n",
    "{0} parkrun relies on volunteers to bring you a free, timed event each week. \n",
    "We encourage everyone to volunteer because it's fun, rewarding, and giving to your community. \n",
    "Please review the <a href=\"https://www.parkrun.com.au/{0}/volunteer/futureroster/\">Future Roster</a> \n",
    "to see where volunteers are needed and email <a href=\"mailto:{0}helpers@parkrun.com\">{0}helpers@parkrun.com</a> \n",
    "if you can help. The wonderful volunteers who made this event possible are:\n",
    "''')\n",
    "\n",
    "run.parse_optional_text('summary', '''\n",
    "Thanks to everyone for their participation and we hope to see everyone again next week. \n",
    "Remember to tell your friends parkrun is fun for everyone, it’s the taking part that counts.\n",
    "''')\n",
    "\n",
    "run.parse_optional_text('upcoming', '''\n",
    "\n",
    "''')"
   ]
  },
  {
   "cell_type": "markdown",
   "metadata": {},
   "source": [
    "* week 1 - age group first finishers\n",
    "  * options = {}\n",
    "* week 2 - regular runners/volunteers options\n",
    "  * options = {'runner_limit': 7, 'volunteer_limit': 2}\n",
    "* week 3 - regular PBs options\n",
    "  * options = {'pb_limit': 2}\n",
    "* week 4 - community\n",
    "  * options = {}"
   ]
  },
  {
   "cell_type": "code",
   "execution_count": null,
   "metadata": {
    "scrolled": true
   },
   "outputs": [],
   "source": [
    "# run.create_week(<week>, <options>)\n",
    "# <options> = {'pb_limit': 2', runner_limit': 7, 'volunteer_limit': 2, 'template_name': 'base'}\n",
    "# templates: base, minimal\n",
    "html = run.create_week(2, {'runner_limit': 7, 'volunteer_limit': 2})\n",
    "print(html)"
   ]
  },
  {
   "cell_type": "code",
   "execution_count": null,
   "metadata": {},
   "outputs": [],
   "source": []
  }
 ],
 "metadata": {
  "kernelspec": {
   "display_name": "Python 3",
   "language": "python",
   "name": "python3"
  },
  "language_info": {
   "codemirror_mode": {
    "name": "ipython",
    "version": 3
   },
   "file_extension": ".py",
   "mimetype": "text/x-python",
   "name": "python",
   "nbconvert_exporter": "python",
   "pygments_lexer": "ipython3",
   "version": "3.6.5"
  }
 },
 "nbformat": 4,
 "nbformat_minor": 2
}
